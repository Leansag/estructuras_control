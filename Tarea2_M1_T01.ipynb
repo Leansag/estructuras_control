{
 "cells": [
  {
   "cell_type": "markdown",
   "metadata": {},
   "source": [
    "**Ejercicio 1**"
   ]
  },
  {
   "cell_type": "code",
   "execution_count": 133,
   "metadata": {},
   "outputs": [
    {
     "data": {
      "text/plain": [
       "[['enero', 'febrero', 'marzo'],\n",
       " ['abril', 'mayo', 'junio'],\n",
       " ['julio', 'agosto', 'septiembre'],\n",
       " ['octubre', 'noviembre', 'diciembre']]"
      ]
     },
     "execution_count": 133,
     "metadata": {},
     "output_type": "execute_result"
    }
   ],
   "source": [
    "T1 =[\"enero\",\"febrero\",\"marzo\"]\n",
    "T2 =[\"abril\",\"mayo\",\"junio\"]\n",
    "T3 =[\"julio\",\"agosto\",\"septiembre\"]\n",
    "T4 =[\"octubre\",\"noviembre\",\"diciembre\"]\n",
    "\n",
    "trimestres = [T1,T2,T3,T4]\n",
    "\n",
    "trimestres"
   ]
  },
  {
   "cell_type": "markdown",
   "metadata": {},
   "source": [
    "**Ejercicio 2**"
   ]
  },
  {
   "cell_type": "code",
   "execution_count": 134,
   "metadata": {},
   "outputs": [
    {
     "data": {
      "text/plain": [
       "'febrero'"
      ]
     },
     "execution_count": 134,
     "metadata": {},
     "output_type": "execute_result"
    }
   ],
   "source": [
    "trimestres[0][1]"
   ]
  },
  {
   "cell_type": "code",
   "execution_count": 135,
   "metadata": {},
   "outputs": [
    {
     "data": {
      "text/plain": [
       "['enero', 'febrero', 'marzo']"
      ]
     },
     "execution_count": 135,
     "metadata": {},
     "output_type": "execute_result"
    }
   ],
   "source": [
    "trimestres[0]"
   ]
  },
  {
   "cell_type": "code",
   "execution_count": 136,
   "metadata": {},
   "outputs": [
    {
     "data": {
      "text/plain": [
       "['septiembre', 'octubre']"
      ]
     },
     "execution_count": 136,
     "metadata": {},
     "output_type": "execute_result"
    }
   ],
   "source": [
    "[trimestres[2][2],trimestres[3][0]]"
   ]
  },
  {
   "cell_type": "markdown",
   "metadata": {},
   "source": [
    "**Ejercicio 3**"
   ]
  },
  {
   "cell_type": "markdown",
   "metadata": {},
   "source": [
    "¿Cuántos números hay?"
   ]
  },
  {
   "cell_type": "code",
   "execution_count": 137,
   "metadata": {},
   "outputs": [
    {
     "name": "stdout",
     "output_type": "stream",
     "text": [
      "la cantidad de numeros de la lista es 13\n"
     ]
    }
   ],
   "source": [
    "nros = [10,8,4,0,6,3,2,17,25,5,1,7,20]\n",
    "\n",
    "lenght = len(nros)\n",
    "\n",
    "print(\"la cantidad de numeros de la lista es\", lenght)"
   ]
  },
  {
   "cell_type": "markdown",
   "metadata": {},
   "source": [
    "Cuántas veces aparece el número 3."
   ]
  },
  {
   "cell_type": "code",
   "execution_count": 138,
   "metadata": {},
   "outputs": [
    {
     "name": "stdout",
     "output_type": "stream",
     "text": [
      "la cantidad de veces que aparece el nro 3 en la lista es 1\n"
     ]
    }
   ],
   "source": [
    "print(\"la cantidad de veces que aparece el nro 3 en la lista es\", nros.count(3))"
   ]
  },
  {
   "cell_type": "markdown",
   "metadata": {},
   "source": [
    "¿Cuántas veces aparecen los números 3 y 4?"
   ]
  },
  {
   "cell_type": "code",
   "execution_count": 139,
   "metadata": {},
   "outputs": [
    {
     "name": "stdout",
     "output_type": "stream",
     "text": [
      "la cantidad de veces que aparece los nros 3 y 4 en la lista son 1 y 1\n"
     ]
    }
   ],
   "source": [
    "print(\"la cantidad de veces que aparece los nros 3 y 4 en la lista son\",nros.count(3),\"y\", nros.count(4))"
   ]
  },
  {
   "cell_type": "markdown",
   "metadata": {},
   "source": [
    "¿Cuál es el mayor número?"
   ]
  },
  {
   "cell_type": "code",
   "execution_count": 140,
   "metadata": {},
   "outputs": [
    {
     "name": "stdout",
     "output_type": "stream",
     "text": [
      "el maximo numero en la lista es 25\n"
     ]
    }
   ],
   "source": [
    "print(\"el maximo numero en la lista es\", max(nros))"
   ]
  },
  {
   "cell_type": "markdown",
   "metadata": {},
   "source": [
    "¿Cuáles son los 3 números más pequeños?"
   ]
  },
  {
   "cell_type": "code",
   "execution_count": 141,
   "metadata": {},
   "outputs": [
    {
     "name": "stdout",
     "output_type": "stream",
     "text": [
      "Los 3 valores minimos son  [0, 1, 2]\n"
     ]
    }
   ],
   "source": [
    "nros_min = sorted(nros)[0:3]\n",
    "print(\"Los 3 valores minimos son \", nros_min)"
   ]
  },
  {
   "cell_type": "markdown",
   "metadata": {},
   "source": [
    "¿Cuál es el rango de esa lista?"
   ]
  },
  {
   "cell_type": "code",
   "execution_count": 142,
   "metadata": {},
   "outputs": [
    {
     "name": "stdout",
     "output_type": "stream",
     "text": [
      " rango 0, elemento 10\n",
      " rango 1, elemento 8\n",
      " rango 2, elemento 4\n",
      " rango 3, elemento 0\n",
      " rango 4, elemento 6\n",
      " rango 5, elemento 3\n",
      " rango 6, elemento 2\n",
      " rango 7, elemento 17\n",
      " rango 8, elemento 25\n",
      " rango 9, elemento 5\n",
      " rango 10, elemento 1\n",
      " rango 11, elemento 7\n",
      " rango 12, elemento 20\n"
     ]
    }
   ],
   "source": [
    "for i , elem in enumerate(nros):\n",
    "    print(f' rango {i}, elemento {elem}')\n"
   ]
  },
  {
   "cell_type": "markdown",
   "metadata": {},
   "source": [
    "**Ejercicio 4**"
   ]
  },
  {
   "cell_type": "code",
   "execution_count": 143,
   "metadata": {},
   "outputs": [],
   "source": [
    "compra = { \"Pomes\" : {\"Qty\": 5, \"€\": 0.42}, \"Peres\" : {\"Qty\": 3, \"€\": 0.66} }"
   ]
  },
  {
   "cell_type": "code",
   "execution_count": 144,
   "metadata": {},
   "outputs": [
    {
     "name": "stdout",
     "output_type": "stream",
     "text": [
      "{'Pomes': {'Qty': 5, '€': 0.42}, 'Peres': {'Qty': 3, '€': 0.66}, 'Toronja': {'Qty': 5, '€': 0.75}}\n"
     ]
    }
   ],
   "source": [
    "compra[\"Toronja\"]= {\"Qty\": 5, \"€\": 0.75}\n",
    "print(compra)"
   ]
  },
  {
   "cell_type": "markdown",
   "metadata": {},
   "source": [
    "¿Cuánto han costado las peras en total?"
   ]
  },
  {
   "cell_type": "code",
   "execution_count": 145,
   "metadata": {},
   "outputs": [
    {
     "data": {
      "text/plain": [
       "3"
      ]
     },
     "execution_count": 145,
     "metadata": {},
     "output_type": "execute_result"
    }
   ],
   "source": [
    "cantidad_Peres = compra[\"Peres\"][\"Qty\"]\n",
    "\n",
    "cantidad_Peres\n",
    "\n"
   ]
  },
  {
   "cell_type": "code",
   "execution_count": 146,
   "metadata": {},
   "outputs": [
    {
     "data": {
      "text/plain": [
       "0.66"
      ]
     },
     "execution_count": 146,
     "metadata": {},
     "output_type": "execute_result"
    }
   ],
   "source": [
    "precio_Peres = compra[\"Peres\"][\"€\"]\n",
    "\n",
    "precio_Peres"
   ]
  },
  {
   "cell_type": "code",
   "execution_count": 147,
   "metadata": {},
   "outputs": [
    {
     "name": "stdout",
     "output_type": "stream",
     "text": [
      "El costo total de las Peres es de 1.98\n"
     ]
    }
   ],
   "source": [
    "costo_Peres = cantidad_Peres * precio_Peres\n",
    "\n",
    "print(\"El costo total de las Peres es de\", costo_Peres)"
   ]
  },
  {
   "cell_type": "markdown",
   "metadata": {},
   "source": [
    "¿Cuántas frutas hemos comprado en total?"
   ]
  },
  {
   "cell_type": "code",
   "execution_count": 148,
   "metadata": {},
   "outputs": [
    {
     "data": {
      "text/plain": [
       "3"
      ]
     },
     "execution_count": 148,
     "metadata": {},
     "output_type": "execute_result"
    }
   ],
   "source": [
    "cantidad_Peres = compra[\"Peres\"][\"Qty\"]\n",
    "\n",
    "cantidad_Peres"
   ]
  },
  {
   "cell_type": "code",
   "execution_count": 149,
   "metadata": {},
   "outputs": [
    {
     "data": {
      "text/plain": [
       "5"
      ]
     },
     "execution_count": 149,
     "metadata": {},
     "output_type": "execute_result"
    }
   ],
   "source": [
    "cantidad_Pomes = compra[\"Pomes\"][\"Qty\"]\n",
    "\n",
    "cantidad_Pomes"
   ]
  },
  {
   "cell_type": "code",
   "execution_count": 150,
   "metadata": {},
   "outputs": [
    {
     "data": {
      "text/plain": [
       "5"
      ]
     },
     "execution_count": 150,
     "metadata": {},
     "output_type": "execute_result"
    }
   ],
   "source": [
    "cantidad_Toronja = compra[\"Toronja\"][\"Qty\"]\n",
    "\n",
    "cantidad_Toronja"
   ]
  },
  {
   "cell_type": "code",
   "execution_count": 151,
   "metadata": {},
   "outputs": [
    {
     "name": "stdout",
     "output_type": "stream",
     "text": [
      "La cantidad total comprada de frutas es 13\n"
     ]
    }
   ],
   "source": [
    "cantidad_total = cantidad_Pomes + cantidad_Peres + cantidad_Toronja\n",
    "\n",
    "print(\"La cantidad total comprada de frutas es\", cantidad_total)"
   ]
  },
  {
   "cell_type": "markdown",
   "metadata": {},
   "source": [
    "¿Cuál es la fruta más cara?"
   ]
  },
  {
   "cell_type": "code",
   "execution_count": 152,
   "metadata": {},
   "outputs": [
    {
     "data": {
      "text/plain": [
       "0.66"
      ]
     },
     "execution_count": 152,
     "metadata": {},
     "output_type": "execute_result"
    }
   ],
   "source": [
    "precio_Peres = compra[\"Peres\"][\"€\"]\n",
    "\n",
    "precio_Peres"
   ]
  },
  {
   "cell_type": "code",
   "execution_count": 153,
   "metadata": {},
   "outputs": [
    {
     "data": {
      "text/plain": [
       "0.42"
      ]
     },
     "execution_count": 153,
     "metadata": {},
     "output_type": "execute_result"
    }
   ],
   "source": [
    "precio_Pomes = compra[\"Pomes\"][\"€\"]\n",
    "\n",
    "precio_Pomes"
   ]
  },
  {
   "cell_type": "code",
   "execution_count": 154,
   "metadata": {},
   "outputs": [
    {
     "data": {
      "text/plain": [
       "0.75"
      ]
     },
     "execution_count": 154,
     "metadata": {},
     "output_type": "execute_result"
    }
   ],
   "source": [
    "precio_Toronja = compra[\"Toronja\"][\"€\"]\n",
    "\n",
    "precio_Toronja"
   ]
  },
  {
   "cell_type": "code",
   "execution_count": 155,
   "metadata": {},
   "outputs": [
    {
     "name": "stdout",
     "output_type": "stream",
     "text": [
      "la fruta mas cara es la Toronja con un precio de 0.75\n"
     ]
    }
   ],
   "source": [
    "print(\"la fruta mas cara es la Toronja con un precio de\", precio_Toronja)"
   ]
  }
 ],
 "metadata": {
  "kernelspec": {
   "display_name": "Python 3",
   "language": "python",
   "name": "python3"
  },
  "language_info": {
   "codemirror_mode": {
    "name": "ipython",
    "version": 3
   },
   "file_extension": ".py",
   "mimetype": "text/x-python",
   "name": "python",
   "nbconvert_exporter": "python",
   "pygments_lexer": "ipython3",
   "version": "3.10.6"
  },
  "orig_nbformat": 4
 },
 "nbformat": 4,
 "nbformat_minor": 2
}
