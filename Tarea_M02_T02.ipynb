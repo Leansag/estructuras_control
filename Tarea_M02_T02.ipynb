{
 "cells": [
  {
   "cell_type": "markdown",
   "metadata": {},
   "source": [
    "**Ejercicio 1**"
   ]
  },
  {
   "cell_type": "code",
   "execution_count": 129,
   "metadata": {},
   "outputs": [],
   "source": [
    "def calificacion():\n",
    "    nota = int(input(\"Ingrese la nota\"))\n",
    "    if (nota <= 5):\n",
    "        print(\"Suspendido\")\n",
    "    elif (5<nota<=7):\n",
    "        print(\"Aprobado\")\n",
    "    elif (7<nota<=9):\n",
    "        print(\"Notable\")\n",
    "    elif nota > 9:print(\"Excelente\")\n",
    "    else:\n",
    "        print(\"nota incorrecta\")"
   ]
  },
  {
   "cell_type": "code",
   "execution_count": 130,
   "metadata": {},
   "outputs": [
    {
     "name": "stdout",
     "output_type": "stream",
     "text": [
      "Aprobado\n"
     ]
    }
   ],
   "source": [
    "calificacion()"
   ]
  },
  {
   "cell_type": "markdown",
   "metadata": {},
   "source": [
    "**Ejercicio 2 **"
   ]
  },
  {
   "cell_type": "code",
   "execution_count": 131,
   "metadata": {},
   "outputs": [],
   "source": [
    "def comparativo():\n",
    "    nro1 = int(input(\"ingrese el 1er nro\"))\n",
    "    nro2 = int(input(\"ingrese el 2do nro\"))\n",
    "    if (nro1 > nro2):\n",
    "        print(\"El nro1 es mayor que el nro2\")\n",
    "    elif (nro1 < nro2):\n",
    "        print(\"El nro2 es mayor que el nro1\")\n",
    "    else:\n",
    "        print(\"ambos nros son iguales\")"
   ]
  },
  {
   "cell_type": "code",
   "execution_count": 132,
   "metadata": {},
   "outputs": [
    {
     "name": "stdout",
     "output_type": "stream",
     "text": [
      "El nro2 es mayor que el nro1\n"
     ]
    }
   ],
   "source": [
    "comparativo()"
   ]
  },
  {
   "cell_type": "markdown",
   "metadata": {},
   "source": [
    "**Ejercicio 3 **"
   ]
  },
  {
   "cell_type": "code",
   "execution_count": 133,
   "metadata": {},
   "outputs": [],
   "source": [
    "def imp_nombre():\n",
    "    nombre = input(\"ingrese su nombre: \")\n",
    "    numero = int(input(\"ingrese un numero\"))\n",
    "    if numero == 0:print(\"Error\")\n",
    "    else: \n",
    "        print((nombre,) * numero)"
   ]
  },
  {
   "cell_type": "code",
   "execution_count": 134,
   "metadata": {},
   "outputs": [
    {
     "name": "stdout",
     "output_type": "stream",
     "text": [
      "('Lean', 'Lean', 'Lean', 'Lean', 'Lean', 'Lean', 'Lean')\n"
     ]
    }
   ],
   "source": [
    "imp_nombre()"
   ]
  },
  {
   "cell_type": "markdown",
   "metadata": {},
   "source": [
    "**Ejercicio 4**"
   ]
  },
  {
   "cell_type": "code",
   "execution_count": 135,
   "metadata": {},
   "outputs": [],
   "source": [
    "\n",
    "\n",
    "def es_simetrica(matriz,orden):\n",
    "    simetrica = True\n",
    "    for x in range(orden):\n",
    "        for y in range(orden):\n",
    "            if (matriz[x][y] != matriz[y][x]):\n",
    "                simetrica = False\n",
    "    return simetrica\n",
    "\n",
    "def main():\n",
    "    matriz = [[6,3,1],[3,2,0],[1,0,0]]\n",
    "    respuesta = es_simetrica(matriz,len(matriz))\n",
    "    if (respuesta == True):\n",
    "        print(\"Es simetrica y la cantida de su elementos es \", len(matriz))\n",
    "    else:\n",
    "        print(\"La matriz no es simetrica\")\n",
    "         "
   ]
  },
  {
   "cell_type": "code",
   "execution_count": 136,
   "metadata": {},
   "outputs": [
    {
     "name": "stdout",
     "output_type": "stream",
     "text": [
      "Es simetrica y la cantida de su elementos es  3\n"
     ]
    }
   ],
   "source": [
    "main()"
   ]
  },
  {
   "cell_type": "markdown",
   "metadata": {},
   "source": [
    "**Ejercicio 5**"
   ]
  },
  {
   "cell_type": "code",
   "execution_count": 157,
   "metadata": {},
   "outputs": [
    {
     "data": {
      "text/plain": [
       "[0, 1, 2, 3, 4, 5, 6]"
      ]
     },
     "execution_count": 157,
     "metadata": {},
     "output_type": "execute_result"
    }
   ],
   "source": [
    "lista = [1,4,2,0,3,8,6]\n",
    "ListaUbicaciones = []\n",
    "\n",
    "for n in range(len(lista)):\n",
    "    if lista[n] == 1:\n",
    "        ListaUbicaciones.append(n)\n",
    "\n",
    "for n in range(len(lista)):\n",
    "    if lista[n] == 4:\n",
    "        ListaUbicaciones.append(n)\n",
    "\n",
    "for n in range(len(lista)):\n",
    "    if lista[n] == 2:\n",
    "        ListaUbicaciones.append(n)\n",
    "\n",
    "for n in range(len(lista)):\n",
    "    if lista[n] == 0:\n",
    "        ListaUbicaciones.append(n)\n",
    "\n",
    "for n in range(len(lista)):\n",
    "    if lista[n] == 3:\n",
    "        ListaUbicaciones.append(n)\n",
    "\n",
    "for n in range(len(lista)):\n",
    "    if lista[n] == 8:\n",
    "        ListaUbicaciones.append(n)\n",
    "\n",
    "for n in range(len(lista)):\n",
    "    if lista[n] == 6:\n",
    "        ListaUbicaciones.append(n)\n",
    "\n",
    "ListaUbicaciones\n",
    "\n",
    "\n"
   ]
  },
  {
   "cell_type": "code",
   "execution_count": 160,
   "metadata": {},
   "outputs": [
    {
     "name": "stdout",
     "output_type": "stream",
     "text": [
      "2 coincide con su posicion 2\n",
      "6 coincide con su posicion 6\n"
     ]
    }
   ],
   "source": [
    "lista\n",
    "ListaUbicaciones\n",
    "\n",
    "\n",
    "\n",
    "def list_posiciones():\n",
    "  longitud = len(lista)\n",
    "  indice = 0\n",
    "  while indice < longitud:\n",
    "    item = lista[indice]\n",
    "    if item == ListaUbicaciones[indice]:\n",
    "       print(f\"{item} coincide con su posicion {indice}\")\n",
    "    indice += 1\n",
    "  \n",
    "list_posiciones()"
   ]
  }
 ],
 "metadata": {
  "kernelspec": {
   "display_name": "Python 3",
   "language": "python",
   "name": "python3"
  },
  "language_info": {
   "codemirror_mode": {
    "name": "ipython",
    "version": 3
   },
   "file_extension": ".py",
   "mimetype": "text/x-python",
   "name": "python",
   "nbconvert_exporter": "python",
   "pygments_lexer": "ipython3",
   "version": "3.10.6"
  },
  "orig_nbformat": 4
 },
 "nbformat": 4,
 "nbformat_minor": 2
}
